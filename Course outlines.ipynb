{
 "cells": [
  {
   "cell_type": "markdown",
   "metadata": {},
   "source": [
    "# Strings"
   ]
  },
  {
   "cell_type": "code",
   "execution_count": 5,
   "metadata": {},
   "outputs": [
    {
     "name": "stdout",
     "output_type": "stream",
     "text": [
      "0 M\n",
      "1 a\n",
      "2 a\n",
      "3 z\n",
      "4  \n",
      "5 A\n",
      "6 m\n",
      "7 j\n",
      "8 a\n",
      "9 d\n"
     ]
    }
   ],
   "source": [
    "#Indexing\n",
    "\n",
    "text = 'Maaz Amjad'\n",
    "index = 0 \n",
    "while index <len(text):\n",
    "    letter = text[index]\n",
    "    print(index, letter)\n",
    "    index = index + 1"
   ]
  },
  {
   "cell_type": "code",
   "execution_count": 6,
   "metadata": {},
   "outputs": [
    {
     "name": "stdout",
     "output_type": "stream",
     "text": [
      "M\n",
      "a\n",
      "a\n",
      "z\n",
      " \n",
      "A\n",
      "m\n",
      "j\n",
      "a\n",
      "d\n"
     ]
    }
   ],
   "source": [
    "#Another approach\n",
    "text = 'Maaz Amjad'\n",
    "for word in text:\n",
    "    print(word)"
   ]
  },
  {
   "cell_type": "code",
   "execution_count": 10,
   "metadata": {},
   "outputs": [
    {
     "name": "stdout",
     "output_type": "stream",
     "text": [
      "3\n"
     ]
    }
   ],
   "source": [
    "# counting word\n",
    "text = 'Maaz Amjad'\n",
    "count = 0\n",
    "for w in text:\n",
    "    if w =='a':\n",
    "        count = count + 1\n",
    "print(count)"
   ]
  },
  {
   "cell_type": "code",
   "execution_count": 12,
   "metadata": {},
   "outputs": [
    {
     "name": "stdout",
     "output_type": "stream",
     "text": [
      "   Its a suuny day. \n",
      "Its a suuny day.\n"
     ]
    }
   ],
   "source": [
    "# reomoving whaite spaces\n",
    "dat = '   Its a suuny day. '\n",
    "a = dat.strip()\n",
    "print(dat)\n",
    "print(a)"
   ]
  },
  {
   "cell_type": "code",
   "execution_count": 18,
   "metadata": {},
   "outputs": [
    {
     "name": "stdout",
     "output_type": "stream",
     "text": [
      "9\n"
     ]
    }
   ],
   "source": [
    "# Parsing and extracting\n",
    "\n",
    "email = 'maazamjad@phystech.edu'\n",
    "b = email.find('@')\n",
    "print(b)\n"
   ]
  },
  {
   "cell_type": "code",
   "execution_count": 19,
   "metadata": {},
   "outputs": [
    {
     "name": "stdout",
     "output_type": "stream",
     "text": [
      "18\n"
     ]
    }
   ],
   "source": [
    "c = email.find('.', b)\n",
    "print(c)"
   ]
  },
  {
   "cell_type": "code",
   "execution_count": 23,
   "metadata": {},
   "outputs": [
    {
     "name": "stdout",
     "output_type": "stream",
     "text": [
      "phystech\n"
     ]
    }
   ],
   "source": [
    "d = email[b + 1 : c]\n",
    "print(d)"
   ]
  },
  {
   "cell_type": "code",
   "execution_count": 26,
   "metadata": {},
   "outputs": [
    {
     "data": {
      "text/plain": [
       "str"
      ]
     },
     "execution_count": 26,
     "metadata": {},
     "output_type": "execute_result"
    }
   ],
   "source": [
    "txt = u'معاز امجد'\n",
    "type(txt)"
   ]
  },
  {
   "cell_type": "markdown",
   "metadata": {},
   "source": [
    "### Handeling file"
   ]
  },
  {
   "cell_type": "code",
   "execution_count": 50,
   "metadata": {},
   "outputs": [
    {
     "name": "stdout",
     "output_type": "stream",
     "text": [
      "9\n"
     ]
    }
   ],
   "source": [
    "# Count the number of lines\n",
    "file = open('docs.txt')\n",
    "count = 0\n",
    "for line in file:\n",
    "    count = count +1 \n",
    "print(count)"
   ]
  },
  {
   "cell_type": "code",
   "execution_count": 51,
   "metadata": {},
   "outputs": [
    {
     "name": "stdout",
     "output_type": "stream",
     "text": [
      "The latter has been designated as a drug trafficking “kingpin”\n",
      " by the United States since 2009 under a law that bars “significant foreign narcotics traffickers”\n",
      " from doing business with American banks. It has been a remarbale journey so far. A list of such “kingpins” issued by the American government referred \n",
      "to him with various aliases including Imam Bheel.It was awesome. It was great indeed.\n",
      "From: Maaz Amjad\n",
      "From: Iqra Ameer\n",
      "From: Hammad \n",
      "From: Gelbukh\n",
      "From: Alisa\n",
      "473\n"
     ]
    }
   ],
   "source": [
    "file = open('docs.txt')\n",
    "read = file.read()\n",
    "print(read)\n",
    "print(len(read))"
   ]
  },
  {
   "cell_type": "code",
   "execution_count": 55,
   "metadata": {},
   "outputs": [
    {
     "name": "stdout",
     "output_type": "stream",
     "text": [
      "From: Maaz Amjad\n",
      "\n",
      "From: Iqra Ameer\n",
      "\n",
      "From: Hammad \n",
      "\n",
      "From: Gelbukh\n",
      "\n",
      "From: Alisa\n"
     ]
    }
   ],
   "source": [
    "# Searching through a file\n",
    "file = open('docs.txt')\n",
    "for line in file: \n",
    "    if line.startswith('From: '):\n",
    "        print(line)"
   ]
  },
  {
   "cell_type": "code",
   "execution_count": 58,
   "metadata": {},
   "outputs": [
    {
     "name": "stdout",
     "output_type": "stream",
     "text": [
      "From: Maaz Amjad\n",
      "From: Iqra Ameer\n",
      "From: Hammad\n",
      "From: Gelbukh\n",
      "From: Alisa\n"
     ]
    }
   ],
   "source": [
    "# Searching through a file\n",
    "file = open('docs.txt')\n",
    "for line in file:\n",
    "    line =line.rstrip() \n",
    "    if line.startswith('From: '):\n",
    "        print(line)"
   ]
  },
  {
   "cell_type": "code",
   "execution_count": 67,
   "metadata": {},
   "outputs": [
    {
     "name": "stdout",
     "output_type": "stream",
     "text": [
      "The latter has been designated as a drug trafficking “kingpin”\n",
      " by the United States since 2009 under a law that bars “significant foreign narcotics traffickers”\n",
      "From: Maaz Amjad\n",
      "From: Iqra Ameer\n",
      "From: Hammad\n",
      "From: Gelbukh\n",
      "From: Alisa\n"
     ]
    }
   ],
   "source": [
    "# Searching through a file\n",
    "file = open('docs.txt')\n",
    "for line in file:\n",
    "    line = line.rstrip() \n",
    "    if not \" It \" in line:\n",
    "        print(line)"
   ]
  },
  {
   "cell_type": "code",
   "execution_count": 71,
   "metadata": {},
   "outputs": [
    {
     "name": "stdout",
     "output_type": "stream",
     "text": [
      "Enter the file name: docs.txt\n",
      "There are 9 lines in the document docs.txt\n"
     ]
    }
   ],
   "source": [
    "fle= input('Enter the file name: ')\n",
    "fille = open(fle)\n",
    "count = 0\n",
    "for line in fille:\n",
    "    count = count + 1\n",
    "print('There are',count,'lines in the document',fle)"
   ]
  },
  {
   "cell_type": "code",
   "execution_count": 72,
   "metadata": {},
   "outputs": [
    {
     "name": "stdout",
     "output_type": "stream",
     "text": [
      "Enter the file name: document.txt\n",
      "There are 1 lines in the document document.txt\n"
     ]
    }
   ],
   "source": [
    "fle= input('Enter the file name: ')\n",
    "fille = open(fle)\n",
    "count = 0\n",
    "for line in fille:\n",
    "    count = count + 1\n",
    "print('There are',count,'lines in the document',fle)"
   ]
  },
  {
   "cell_type": "code",
   "execution_count": 73,
   "metadata": {},
   "outputs": [
    {
     "name": "stdout",
     "output_type": "stream",
     "text": [
      "Enter the file name: docue\n",
      "This file namely docue Can't be found\n"
     ]
    }
   ],
   "source": [
    "fle= input('Enter the file name: ')\n",
    "try:\n",
    "    fille = open(fle)\n",
    "    count = 0\n",
    "    for line in fille:\n",
    "        count = count + 1\n",
    "    print('There are',count,'lines in the document',fle)\n",
    "except:\n",
    "    print(\"This file namely\", fle, \"Can't be found\")"
   ]
  },
  {
   "cell_type": "code",
   "execution_count": 74,
   "metadata": {},
   "outputs": [
    {
     "name": "stdout",
     "output_type": "stream",
     "text": [
      "Enter the file name: docs.txt\n",
      "There are 9 lines in the document docs.txt\n"
     ]
    }
   ],
   "source": [
    "fle= input('Enter the file name: ')\n",
    "try:\n",
    "    fille = open(fle)\n",
    "    count = 0\n",
    "    for line in fille:\n",
    "        count = count + 1\n",
    "    print('There are',count,'lines in the document',fle)\n",
    "except:\n",
    "    print(\"This file namely\", fle, \"Can't be found\")"
   ]
  },
  {
   "cell_type": "code",
   "execution_count": 75,
   "metadata": {},
   "outputs": [
    {
     "name": "stdout",
     "output_type": "stream",
     "text": [
      "Enter the file name: document.txt\n",
      "There are 1 lines in the document document.txt\n"
     ]
    }
   ],
   "source": [
    "fle= input('Enter the file name: ')\n",
    "try:\n",
    "    fille = open(fle)\n",
    "    count = 0\n",
    "    for line in fille:\n",
    "        count = count + 1\n",
    "    print('There are',count,'lines in the document',fle)\n",
    "except:\n",
    "    print(\"This file namely\", fle, \"Can't be found\")"
   ]
  },
  {
   "cell_type": "markdown",
   "metadata": {},
   "source": [
    "### Lists"
   ]
  },
  {
   "cell_type": "code",
   "execution_count": 29,
   "metadata": {},
   "outputs": [],
   "source": [
    "#List can only be modied: mean we can add, remove, change only in list but not in tuples\n",
    "# we can also write list as my_list = list()\n",
    "my_list= []"
   ]
  },
  {
   "cell_type": "markdown",
   "metadata": {},
   "source": [
    "#### Dictionary"
   ]
  },
  {
   "cell_type": "code",
   "execution_count": 2,
   "metadata": {},
   "outputs": [],
   "source": [
    "#we use dictionay for countingto make histogram"
   ]
  },
  {
   "cell_type": "code",
   "execution_count": 7,
   "metadata": {},
   "outputs": [
    {
     "name": "stdout",
     "output_type": "stream",
     "text": [
      "{'ivan': 2, 'gelbukh': 1, 'usman': 2, 'dima': 1, 'mouazem': 1, 'ali': 1, 'usman haider': 1}\n"
     ]
    }
   ],
   "source": [
    "dictionay = {} # we can also write as dictionay = dict{}\n",
    "names = ['ivan','gelbukh','usman',\n",
    "         'dima','ivan', 'mouazem',\n",
    "         'ali','usman haider','usman']\n",
    "for name in names:\n",
    "    if name not in dictionay: \n",
    "        dictionay[name] = 1\n",
    "    else:\n",
    "        dictionay[name] = dictionay[name] + 1\n",
    "print(dictionay)"
   ]
  },
  {
   "cell_type": "code",
   "execution_count": 8,
   "metadata": {},
   "outputs": [
    {
     "name": "stdout",
     "output_type": "stream",
     "text": [
      "{'ivan': 2, 'gelbukh': 1, 'usman': 2, 'dima': 1, 'mouazem': 1, 'ali': 1, 'usman haider': 1}\n"
     ]
    }
   ],
   "source": [
    "#this code is same as above but we use \"get\"\n",
    "\n",
    "dic = {} # we can also write as dictionay = dict{}\n",
    "names = ['ivan','gelbukh','usman',\n",
    "         'dima','ivan', 'mouazem',\n",
    "         'ali','usman haider','usman']\n",
    "for name in names:\n",
    "    dic[name] = dic.get(name,0) + 1\n",
    "print(dic)"
   ]
  },
  {
   "cell_type": "code",
   "execution_count": 9,
   "metadata": {},
   "outputs": [
    {
     "name": "stdout",
     "output_type": "stream",
     "text": [
      "ivan 2\n",
      "gelbukh 1\n",
      "usman 2\n",
      "dima 1\n",
      "mouazem 1\n",
      "ali 1\n",
      "usman haider 1\n"
     ]
    }
   ],
   "source": [
    "# lets move from dictionary to simple words\n",
    "for key in dic:\n",
    "    print(key, dic[key])"
   ]
  },
  {
   "cell_type": "code",
   "execution_count": 14,
   "metadata": {},
   "outputs": [
    {
     "name": "stdout",
     "output_type": "stream",
     "text": [
      "{'ivan': 2, 'gelbukh': 1, 'usman': 2, 'dima': 1, 'mouazem': 1, 'ali': 1, 'usman haider': 1}\n",
      "['ivan', 'gelbukh', 'usman', 'dima', 'mouazem', 'ali', 'usman haider']\n",
      "dict_keys(['ivan', 'gelbukh', 'usman', 'dima', 'mouazem', 'ali', 'usman haider'])\n",
      "dict_values([2, 1, 2, 1, 1, 1, 1])\n",
      "dict_items([('ivan', 2), ('gelbukh', 1), ('usman', 2), ('dima', 1), ('mouazem', 1), ('ali', 1), ('usman haider', 1)])\n"
     ]
    }
   ],
   "source": [
    "#some shortcuts\n",
    "print(dic)\n",
    "print(list(dic))\n",
    "print(dic.keys())\n",
    "print(dic.values())\n",
    "print(dic.items())"
   ]
  },
  {
   "cell_type": "code",
   "execution_count": 16,
   "metadata": {},
   "outputs": [
    {
     "name": "stdout",
     "output_type": "stream",
     "text": [
      "ivan 2\n",
      "gelbukh 1\n",
      "usman 2\n",
      "dima 1\n",
      "mouazem 1\n",
      "ali 1\n",
      "usman haider 1\n"
     ]
    }
   ],
   "source": [
    "for a,b in dic.items():\n",
    "    print(a,b)"
   ]
  },
  {
   "cell_type": "code",
   "execution_count": 19,
   "metadata": {},
   "outputs": [
    {
     "name": "stdout",
     "output_type": "stream",
     "text": [
      "The supreme court of the United States witnessed a similar upheaval during the McCarthy era. In a series of decision it upheld the independence of the academia, justice William Douglas wrote: “Where suspicion fills the air and holds scholars in line for fear of their jobs, there can be no exercise of the free intellect. Supineness and dogmatism take the place of inquiry. A ‘party line’ — as dangerous as the ‘party line’ of the Communists — lays hold. It is the ‘party line’ of the orthodox view, of the conventional thought, of the accepted approach. A problem can no longer be pursued with impunity to its edges. Fear stalks the classroom. The teacher is no longer a stimulant to adventurous thinking; she becomes instead a pipe line for safe and sound information. A deadening dogma takes the place for free inquiry. Instruction tends to become sterile; pursuit of knowledge is discouraged; discussion often leaves off where it should begin.”\n"
     ]
    }
   ],
   "source": [
    "# count words and find which word comes higher then others\n",
    "txtt = ('The supreme court of the United States witnessed a similar upheaval during the McCarthy era. In a series of decision it upheld the independence of the academia, justice William Douglas wrote: “Where suspicion fills the air and holds scholars in line for fear of their jobs, there can be no exercise of the free intellect. Supineness and dogmatism take the place of inquiry. A ‘party line’ — as dangerous as the ‘party line’ of the Communists — lays hold. It is the ‘party line’ of the orthodox view, of the conventional thought, of the accepted approach. A problem can no longer be pursued with impunity to its edges. Fear stalks the classroom. The teacher is no longer a stimulant to adventurous thinking; she becomes instead a pipe line for safe and sound information. A deadening dogma takes the place for free inquiry. Instruction tends to become sterile; pursuit of knowledge is discouraged; discussion often leaves off where it should begin.”')\n",
    "print(txtt)"
   ]
  },
  {
   "cell_type": "code",
   "execution_count": 28,
   "metadata": {},
   "outputs": [
    {
     "name": "stdout",
     "output_type": "stream",
     "text": [
      "['The', 'supreme', 'court', 'of', 'the', 'United', 'States', 'witnessed', 'a', 'similar', 'upheaval', 'during', 'the', 'McCarthy', 'era.', 'In', 'a', 'series', 'of', 'decision', 'it', 'upheld', 'the', 'independence', 'of', 'the', 'academia,', 'justice', 'William', 'Douglas', 'wrote:', '“Where', 'suspicion', 'fills', 'the', 'air', 'and', 'holds', 'scholars', 'in', 'line', 'for', 'fear', 'of', 'their', 'jobs,', 'there', 'can', 'be', 'no', 'exercise', 'of', 'the', 'free', 'intellect.', 'Supineness', 'and', 'dogmatism', 'take', 'the', 'place', 'of', 'inquiry.', 'A', '‘party', 'line’', '—', 'as', 'dangerous', 'as', 'the', '‘party', 'line’', 'of', 'the', 'Communists', '—', 'lays', 'hold.', 'It', 'is', 'the', '‘party', 'line’', 'of', 'the', 'orthodox', 'view,', 'of', 'the', 'conventional', 'thought,', 'of', 'the', 'accepted', 'approach.', 'A', 'problem', 'can', 'no', 'longer', 'be', 'pursued', 'with', 'impunity', 'to', 'its', 'edges.', 'Fear', 'stalks', 'the', 'classroom.', 'The', 'teacher', 'is', 'no', 'longer', 'a', 'stimulant', 'to', 'adventurous', 'thinking;', 'she', 'becomes', 'instead', 'a', 'pipe', 'line', 'for', 'safe', 'and', 'sound', 'information.', 'A', 'deadening', 'dogma', 'takes', 'the', 'place', 'for', 'free', 'inquiry.', 'Instruction', 'tends', 'to', 'become', 'sterile;', 'pursuit', 'of', 'knowledge', 'is', 'discouraged;', 'discussion', 'often', 'leaves', 'off', 'where', 'it', 'should', 'begin.”']\n"
     ]
    },
    {
     "data": {
      "text/plain": [
       "list"
      ]
     },
     "execution_count": 28,
     "metadata": {},
     "output_type": "execute_result"
    }
   ],
   "source": [
    "txt = txtt.split()\n",
    "print(txt)"
   ]
  },
  {
   "cell_type": "code",
   "execution_count": 27,
   "metadata": {},
   "outputs": [
    {
     "name": "stdout",
     "output_type": "stream",
     "text": [
      "{'The': 2, 'supreme': 1, 'court': 1, 'of': 11, 'the': 15, 'United': 1, 'States': 1, 'witnessed': 1, 'a': 4, 'similar': 1, 'upheaval': 1, 'during': 1, 'McCarthy': 1, 'era.': 1, 'In': 1, 'series': 1, 'decision': 1, 'it': 2, 'upheld': 1, 'independence': 1, 'academia,': 1, 'justice': 1, 'William': 1, 'Douglas': 1, 'wrote:': 1, '“Where': 1, 'suspicion': 1, 'fills': 1, 'air': 1, 'and': 3, 'holds': 1, 'scholars': 1, 'in': 1, 'line': 2, 'for': 3, 'fear': 1, 'their': 1, 'jobs,': 1, 'there': 1, 'can': 2, 'be': 2, 'no': 3, 'exercise': 1, 'free': 2, 'intellect.': 1, 'Supineness': 1, 'dogmatism': 1, 'take': 1, 'place': 2, 'inquiry.': 2, 'A': 3, '‘party': 3, 'line’': 3, '—': 2, 'as': 2, 'dangerous': 1, 'Communists': 1, 'lays': 1, 'hold.': 1, 'It': 1, 'is': 3, 'orthodox': 1, 'view,': 1, 'conventional': 1, 'thought,': 1, 'accepted': 1, 'approach.': 1, 'problem': 1, 'longer': 2, 'pursued': 1, 'with': 1, 'impunity': 1, 'to': 3, 'its': 1, 'edges.': 1, 'Fear': 1, 'stalks': 1, 'classroom.': 1, 'teacher': 1, 'stimulant': 1, 'adventurous': 1, 'thinking;': 1, 'she': 1, 'becomes': 1, 'instead': 1, 'pipe': 1, 'safe': 1, 'sound': 1, 'information.': 1, 'deadening': 1, 'dogma': 1, 'takes': 1, 'Instruction': 1, 'tends': 1, 'become': 1, 'sterile;': 1, 'pursuit': 1, 'knowledge': 1, 'discouraged;': 1, 'discussion': 1, 'often': 1, 'leaves': 1, 'off': 1, 'where': 1, 'should': 1, 'begin.”': 1}\n",
      "\n",
      "\n",
      "The 2\n",
      "supreme 1\n",
      "court 1\n",
      "of 11\n",
      "the 15\n",
      "United 1\n",
      "States 1\n",
      "witnessed 1\n",
      "a 4\n",
      "similar 1\n",
      "upheaval 1\n",
      "during 1\n",
      "McCarthy 1\n",
      "era. 1\n",
      "In 1\n",
      "series 1\n",
      "decision 1\n",
      "it 2\n",
      "upheld 1\n",
      "independence 1\n",
      "academia, 1\n",
      "justice 1\n",
      "William 1\n",
      "Douglas 1\n",
      "wrote: 1\n",
      "“Where 1\n",
      "suspicion 1\n",
      "fills 1\n",
      "air 1\n",
      "and 3\n",
      "holds 1\n",
      "scholars 1\n",
      "in 1\n",
      "line 2\n",
      "for 3\n",
      "fear 1\n",
      "their 1\n",
      "jobs, 1\n",
      "there 1\n",
      "can 2\n",
      "be 2\n",
      "no 3\n",
      "exercise 1\n",
      "free 2\n",
      "intellect. 1\n",
      "Supineness 1\n",
      "dogmatism 1\n",
      "take 1\n",
      "place 2\n",
      "inquiry. 2\n",
      "A 3\n",
      "‘party 3\n",
      "line’ 3\n",
      "— 2\n",
      "as 2\n",
      "dangerous 1\n",
      "Communists 1\n",
      "lays 1\n",
      "hold. 1\n",
      "It 1\n",
      "is 3\n",
      "orthodox 1\n",
      "view, 1\n",
      "conventional 1\n",
      "thought, 1\n",
      "accepted 1\n",
      "approach. 1\n",
      "problem 1\n",
      "longer 2\n",
      "pursued 1\n",
      "with 1\n",
      "impunity 1\n",
      "to 3\n",
      "its 1\n",
      "edges. 1\n",
      "Fear 1\n",
      "stalks 1\n",
      "classroom. 1\n",
      "teacher 1\n",
      "stimulant 1\n",
      "adventurous 1\n",
      "thinking; 1\n",
      "she 1\n",
      "becomes 1\n",
      "instead 1\n",
      "pipe 1\n",
      "safe 1\n",
      "sound 1\n",
      "information. 1\n",
      "deadening 1\n",
      "dogma 1\n",
      "takes 1\n",
      "Instruction 1\n",
      "tends 1\n",
      "become 1\n",
      "sterile; 1\n",
      "pursuit 1\n",
      "knowledge 1\n",
      "discouraged; 1\n",
      "discussion 1\n",
      "often 1\n",
      "leaves 1\n",
      "off 1\n",
      "where 1\n",
      "should 1\n",
      "begin.” 1\n",
      "\n",
      "\n",
      "the 15\n"
     ]
    }
   ],
   "source": [
    "dictionry= dict()\n",
    "for words in txt:\n",
    "    dictionry[words] = dictionry.get(words,0) + 1\n",
    "print(dictionry)\n",
    "print('\\n')\n",
    "big_words = None\n",
    "big_count = None\n",
    "for word,count in dictionry.items():\n",
    "    print(word,count)\n",
    "    if big_words is None or count > big_count:\n",
    "        big_words = word\n",
    "        big_count = count\n",
    "print('\\n')\n",
    "print(big_words, big_count)\n",
    "    "
   ]
  },
  {
   "cell_type": "markdown",
   "metadata": {},
   "source": [
    "### Tuples"
   ]
  },
  {
   "cell_type": "code",
   "execution_count": 38,
   "metadata": {},
   "outputs": [
    {
     "name": "stdout",
     "output_type": "stream",
     "text": [
      "dict_items([('Maaz', 24), ('Hammad', 23), ('Umer', 27), ('Hamza', 20), ('Hassan', 17)])\n",
      "[('Hammad', 23), ('Hamza', 20), ('Hassan', 17), ('Maaz', 24), ('Umer', 27)]\n"
     ]
    }
   ],
   "source": [
    "#tuples cant be modified.\n",
    "#Tuples can be used to get sorted version of dictionary.\n",
    "#In order to sort a dictionary, we need to pdo two steps\n",
    "\n",
    "\n",
    "duct = {'Maaz': 24, 'Hammad': 23, 'Umer': 27, 'Hamza': 20, 'Hassan': 17}\n",
    "duct\n",
    "\n",
    "#Step 1\n",
    "a = duct.items()\n",
    "print(a)\n",
    "\n",
    "#Step 2\n",
    "print(sorted(a))"
   ]
  },
  {
   "cell_type": "code",
   "execution_count": 39,
   "metadata": {},
   "outputs": [
    {
     "name": "stdout",
     "output_type": "stream",
     "text": [
      "Hammad 23\n",
      "Hamza 20\n",
      "Hassan 17\n",
      "Maaz 24\n",
      "Umer 27\n"
     ]
    }
   ],
   "source": [
    "for keys,values in sorted(a):\n",
    "    print(keys,values)"
   ]
  },
  {
   "cell_type": "code",
   "execution_count": 48,
   "metadata": {},
   "outputs": [
    {
     "name": "stdout",
     "output_type": "stream",
     "text": [
      "[(24, 'Maaz'), (23, 'Hammad'), (27, 'Umer'), (20, 'Hamza'), (17, 'Hassan')]\n",
      "[(17, 'Hassan'), (20, 'Hamza'), (23, 'Hammad'), (24, 'Maaz'), (27, 'Umer')]\n",
      "[(27, 'Umer'), (24, 'Maaz'), (23, 'Hammad'), (20, 'Hamza'), (17, 'Hassan')]\n"
     ]
    }
   ],
   "source": [
    "#Sorted by values instead of keys\n",
    "duct = {'Maaz': 24, 'Hammad': 23, 'Umer': 27, 'Hamza': 20, 'Hassan': 17}\n",
    "Lisstt= list()\n",
    "for k,v in duct.items():\n",
    "    Lisstt.append((v,k)) # we append this by (value,key) order\n",
    "print(Lisstt)\n",
    "print(sorted(Lisstt))\n",
    "output = sorted(Lisstt, reverse = True)\n",
    "print(output)\n",
    "\n"
   ]
  },
  {
   "cell_type": "code",
   "execution_count": 63,
   "metadata": {},
   "outputs": [
    {
     "name": "stdout",
     "output_type": "stream",
     "text": [
      "1 “Where\n",
      "3 ‘party\n",
      "2 —\n",
      "1 wrote:\n",
      "1 witnessed\n",
      "1 with\n",
      "1 where\n",
      "1 view,\n",
      "1 upheld\n",
      "1 upheaval\n"
     ]
    }
   ],
   "source": [
    "# count words and find top 10 words\n",
    "dictt = dict()\n",
    "txtt = ('The supreme court of the United States witnessed a similar upheaval during the McCarthy era. In a series of decision it upheld the independence of the academia, justice William Douglas wrote: “Where suspicion fills the air and holds scholars in line for fear of their jobs, there can be no exercise of the free intellect. Supineness and dogmatism take the place of inquiry. A ‘party line’ — as dangerous as the ‘party line’ of the Communists — lays hold. It is the ‘party line’ of the orthodox view, of the conventional thought, of the accepted approach. A problem can no longer be pursued with impunity to its edges. Fear stalks the classroom. The teacher is no longer a stimulant to adventurous thinking; she becomes instead a pipe line for safe and sound information. A deadening dogma takes the place for free inquiry. Instruction tends to become sterile; pursuit of knowledge is discouraged; discussion often leaves off where it should begin.”')\n",
    "\n",
    "#making dictionay\n",
    "for w in txtt.split():\n",
    "    dictt[w] = dictt.get(w,0) + 1\n",
    "#print(dictt)\n",
    "\n",
    "#making big list \n",
    "Listtt = []\n",
    "for  keyys,values in dictt.items():\n",
    "    Listtt.append((keyys,values))\n",
    "#sorting    \n",
    "Listtt = sorted(Listtt, reverse=True)\n",
    "for kk,vv in Listtt[:10]:\n",
    "    print(vv, kk)"
   ]
  },
  {
   "cell_type": "code",
   "execution_count": 66,
   "metadata": {},
   "outputs": [
    {
     "name": "stdout",
     "output_type": "stream",
     "text": [
      "[(1, 'Communists'), (1, 'Douglas'), (1, 'Fear'), (1, 'In'), (1, 'Instruction'), (1, 'It'), (1, 'McCarthy'), (1, 'States'), (1, 'Supineness'), (1, 'United'), (1, 'William'), (1, 'academia,'), (1, 'accepted'), (1, 'adventurous'), (1, 'air'), (1, 'approach.'), (1, 'become'), (1, 'becomes'), (1, 'begin.”'), (1, 'classroom.'), (1, 'conventional'), (1, 'court'), (1, 'dangerous'), (1, 'deadening'), (1, 'decision'), (1, 'discouraged;'), (1, 'discussion'), (1, 'dogma'), (1, 'dogmatism'), (1, 'during'), (1, 'edges.'), (1, 'era.'), (1, 'exercise'), (1, 'fear'), (1, 'fills'), (1, 'hold.'), (1, 'holds'), (1, 'impunity'), (1, 'in'), (1, 'independence'), (1, 'information.'), (1, 'instead'), (1, 'intellect.'), (1, 'its'), (1, 'jobs,'), (1, 'justice'), (1, 'knowledge'), (1, 'lays'), (1, 'leaves'), (1, 'off'), (1, 'often'), (1, 'orthodox'), (1, 'pipe'), (1, 'problem'), (1, 'pursued'), (1, 'pursuit'), (1, 'safe'), (1, 'scholars'), (1, 'series'), (1, 'she'), (1, 'should'), (1, 'similar'), (1, 'sound'), (1, 'stalks'), (1, 'sterile;'), (1, 'stimulant'), (1, 'supreme'), (1, 'suspicion'), (1, 'take'), (1, 'takes'), (1, 'teacher'), (1, 'tends'), (1, 'their'), (1, 'there'), (1, 'thinking;'), (1, 'thought,'), (1, 'upheaval'), (1, 'upheld'), (1, 'view,'), (1, 'where'), (1, 'with'), (1, 'witnessed'), (1, 'wrote:'), (1, '“Where'), (2, 'The'), (2, 'as'), (2, 'be'), (2, 'can'), (2, 'free'), (2, 'inquiry.'), (2, 'it'), (2, 'line'), (2, 'longer'), (2, 'place'), (2, '—'), (3, 'A'), (3, 'and'), (3, 'for'), (3, 'is'), (3, 'line’'), (3, 'no'), (3, 'to'), (3, '‘party'), (4, 'a'), (11, 'of'), (15, 'the')]\n"
     ]
    }
   ],
   "source": [
    "#shorter version of above after making dictionay\n",
    "print(sorted([(v, k) for k,v in dictt.items()]) )"
   ]
  },
  {
   "cell_type": "markdown",
   "metadata": {},
   "source": [
    "#### Regular Expressions"
   ]
  },
  {
   "cell_type": "code",
   "execution_count": 69,
   "metadata": {},
   "outputs": [
    {
     "name": "stdout",
     "output_type": "stream",
     "text": [
      "['15', '1', '4', '14', '25']\n"
     ]
    }
   ],
   "source": [
    "import re\n",
    "\n",
    "t ='Hammad is very hard working and studied 15 hours per 1 day. He studied 4 years in 14 and 25 companies.'\n",
    "y = re.findall('[0-9]+', t)\n",
    "print(y)"
   ]
  },
  {
   "cell_type": "code",
   "execution_count": 78,
   "metadata": {},
   "outputs": [
    {
     "name": "stdout",
     "output_type": "stream",
     "text": [
      "['Hammad']\n"
     ]
    }
   ],
   "source": [
    "# if we are looking for something which is in the text in text form\n",
    "y = re.findall('Hammad', t)\n",
    "print(y)"
   ]
  },
  {
   "cell_type": "code",
   "execution_count": 79,
   "metadata": {},
   "outputs": [
    {
     "name": "stdout",
     "output_type": "stream",
     "text": [
      "[]\n"
     ]
    }
   ],
   "source": [
    "# if we are looking for something which is not in the text\n",
    "y = re.findall('Shamimi', t)\n",
    "print(y)"
   ]
  },
  {
   "cell_type": "code",
   "execution_count": 82,
   "metadata": {},
   "outputs": [
    {
     "name": "stdout",
     "output_type": "stream",
     "text": [
      "['Maaz:Amjad:']\n"
     ]
    }
   ],
   "source": [
    "#Greedy Maching- It means it will look for : untill there exist last : in a whole text.\n",
    "Text= 'Maaz:Amjad:Mughal'\n",
    "e = re.findall('^M.+:',Text)\n",
    "print(e)"
   ]
  },
  {
   "cell_type": "code",
   "execution_count": 84,
   "metadata": {},
   "outputs": [
    {
     "name": "stdout",
     "output_type": "stream",
     "text": [
      "['Maaz:']\n"
     ]
    }
   ],
   "source": [
    "#Not Greedy Maching: means it will look for only first :\n",
    "Text= 'Maaz:Amjad:Mughal'\n",
    "e = re.findall('^M.+?:',Text)\n",
    "print(e)"
   ]
  },
  {
   "cell_type": "code",
   "execution_count": 92,
   "metadata": {},
   "outputs": [
    {
     "name": "stdout",
     "output_type": "stream",
     "text": [
      "['maazamjad@phystech.edu']\n"
     ]
    }
   ],
   "source": [
    "email= 'From maazamjad@phystech.edu  Sun 11     12:51:17'\n",
    "o = re.findall('\\S+@\\S+', email)\n",
    "print(o)"
   ]
  },
  {
   "cell_type": "code",
   "execution_count": 94,
   "metadata": {},
   "outputs": [
    {
     "name": "stdout",
     "output_type": "stream",
     "text": [
      "['maazamjad@phystech.edu']\n",
      "['From maazamjad@phystech.edu']\n"
     ]
    }
   ],
   "source": [
    "email= 'From maazamjad@phystech.edu  Sun 11     12:51:17'\n",
    "o = re.findall('^From (\\S+@\\S+)', email)\n",
    "print(o)\n",
    "\n",
    "email= 'From maazamjad@phystech.edu  Sun 11     12:51:17'\n",
    "o = re.findall('^From \\S+@\\S+', email)\n",
    "print(o)"
   ]
  },
  {
   "cell_type": "code",
   "execution_count": 106,
   "metadata": {},
   "outputs": [
    {
     "name": "stdout",
     "output_type": "stream",
     "text": [
      "14 27\n",
      "phystech.edu\n",
      "\n",
      "\n",
      "['From', 'maazamjad@phystech.edu', 'Sun', '11', '12:51:17'] maazamjad@phystech.edu ['maazamjad', 'phystech.edu']\n",
      "\n",
      "\n",
      "phystech.edu\n",
      "\n",
      "\n",
      "['phystech.edu']\n",
      "['phystech.edu']\n"
     ]
    }
   ],
   "source": [
    "#to get only \"phystech.edu\", there are three different ways.\n",
    "\n",
    "#first way:\n",
    "\n",
    "email= 'From maazamjad@phystech.edu  Sun 11     12:51:17'\n",
    "gt= email.find('@')\n",
    "ty= email.find(' ', gt)\n",
    "print(gt, ty)\n",
    "\n",
    "print(email[gt+1:ty])\n",
    "\n",
    "print('\\n')\n",
    "\n",
    "#second way\n",
    "email= 'From maazamjad@phystech.edu  Sun 11     12:51:17'\n",
    "er= email.split()\n",
    "iy=er[1]\n",
    "io = iy.split('@')\n",
    "print(er, iy, io)\n",
    "print('\\n')\n",
    "print(io[1])\n",
    "\n",
    "print('\\n')\n",
    "\n",
    "\n",
    "#Third way: with regular expression\n",
    "import re\n",
    "email= 'From maazamjad@phystech.edu  Sun 11     12:51:17'\n",
    "yu = re.findall('^From .*@([^ ]*)', email)\n",
    "pp = re.findall('@([^ ]*)', email)\n",
    "print(yu)\n",
    "print(pp)\n",
    "\n"
   ]
  },
  {
   "cell_type": "code",
   "execution_count": 119,
   "metadata": {},
   "outputs": [
    {
     "name": "stdout",
     "output_type": "stream",
     "text": [
      "['0.8475']\n",
      "0.8475\n",
      "['0.6178']\n",
      "0.6178\n",
      "['0.6961']\n",
      "0.6961\n",
      "['0.7565']\n",
      "0.7565\n",
      "['0.7626']\n",
      "0.7626\n",
      "['0.7556']\n",
      "0.7556\n",
      "['0.7002']\n",
      "0.7002\n",
      "['0.7615']\n",
      "0.7615\n",
      "['0.7601']\n",
      "0.7601\n",
      "['0.7605']\n",
      "0.7605\n",
      "['0.6959']\n",
      "0.6959\n",
      "['0.7606']\n",
      "0.7606\n",
      "['0.7559']\n",
      "0.7559\n",
      "['0.7605']\n",
      "0.7605\n",
      "['0.6932']\n",
      "0.6932\n",
      "['0.7558']\n",
      "0.7558\n",
      "['0.6526']\n",
      "0.6526\n",
      "['0.6948']\n",
      "0.6948\n",
      "['0.6528']\n",
      "0.6528\n",
      "['0.7002']\n",
      "0.7002\n",
      "['0.7554']\n",
      "0.7554\n",
      "['0.6956']\n",
      "0.6956\n",
      "['0.6959']\n",
      "0.6959\n",
      "['0.7556']\n",
      "0.7556\n",
      "['0.9846']\n",
      "0.9846\n",
      "['0.8509']\n",
      "0.8509\n",
      "['0.9907']\n",
      "0.9907\n",
      "[0.8475, 0.6178, 0.6961, 0.7565, 0.7626, 0.7556, 0.7002, 0.7615, 0.7601, 0.7605, 0.6959, 0.7606, 0.7559, 0.7605, 0.6932, 0.7558, 0.6526, 0.6948, 0.6528, 0.7002, 0.7554, 0.6956, 0.6959, 0.7556, 0.9846, 0.8509, 0.9907]\n",
      "Meximum: 0.9907\n"
     ]
    }
   ],
   "source": [
    "# Use the file name mbox-short.txt as the file name\n",
    "import re\n",
    "LList = list()\n",
    "#fname = input(\"Enter file name: \")\n",
    "file = open('mbox-short.txt')\n",
    "for line in file:\n",
    "    line = line.strip()\n",
    "    stuff = re.findall('^X-DSPAM-Confidence: ([0-9.]+)', line)\n",
    "    if len(stuff) != 1:continue\n",
    "    num =float(stuff[0])\n",
    "    LList.append(num)\n",
    "    print(stuff)\n",
    "print( LList)   \n",
    "print('Meximum:', max(LList))"
   ]
  },
  {
   "cell_type": "code",
   "execution_count": 121,
   "metadata": {},
   "outputs": [
    {
     "name": "stdout",
     "output_type": "stream",
     "text": [
      "['$50,000']\n"
     ]
    }
   ],
   "source": [
    "import re\n",
    "X = 'Hammad is very rich person and has $50,000.'\n",
    "w =re.findall('\\$[0-9,]+',X)\n",
    "print(w)"
   ]
  },
  {
   "cell_type": "raw",
   "metadata": {},
   "source": [
    "We provide two files for this assignment. One is a sample file where we give you the sum for your testing and the other is the actual data you need to process for the assignment.\n",
    "\n",
    "Sample data: http://py4e-data.dr-chuck.net/regex_sum_42.txt (There are 90 values with a sum=445833)"
   ]
  },
  {
   "cell_type": "code",
   "execution_count": 174,
   "metadata": {},
   "outputs": [
    {
     "name": "stdout",
     "output_type": "stream",
     "text": [
      "42\n"
     ]
    }
   ],
   "source": [
    "import re\n",
    "numb = []\n",
    "count = 0\n",
    "L = []\n",
    "FIL = open('sample.txt')\n",
    "for file in FIL:\n",
    "    count = count +1\n",
    "    file = file.rstrip()\n",
    "    stuff = re.findall('[0-9]+',file)\n",
    "    if len(stuff) !=1: continue\n",
    "    numm = stuff[:]\n",
    "    numb.append(numm)\n",
    "for vall in numb:\n",
    "    vll = int(vall[0])\n",
    "print(vll)\n",
    "   "
   ]
  },
  {
   "cell_type": "code",
   "execution_count": null,
   "metadata": {},
   "outputs": [],
   "source": [
    "if len(stuff) !=1: continue\n",
    "    num = int(stuff[0])\n",
    "    numb.append(num)\n",
    "print('There are', count, 'values with a sum=', sum(numb))"
   ]
  }
 ],
 "metadata": {
  "kernelspec": {
   "display_name": "Python 3",
   "language": "python",
   "name": "python3"
  },
  "language_info": {
   "codemirror_mode": {
    "name": "ipython",
    "version": 3
   },
   "file_extension": ".py",
   "mimetype": "text/x-python",
   "name": "python",
   "nbconvert_exporter": "python",
   "pygments_lexer": "ipython3",
   "version": "3.6.5"
  }
 },
 "nbformat": 4,
 "nbformat_minor": 2
}
