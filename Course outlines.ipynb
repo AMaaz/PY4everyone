{
 "cells": [
  {
   "cell_type": "markdown",
   "metadata": {},
   "source": [
    "# Strings"
   ]
  },
  {
   "cell_type": "code",
   "execution_count": 5,
   "metadata": {},
   "outputs": [
    {
     "name": "stdout",
     "output_type": "stream",
     "text": [
      "0 M\n",
      "1 a\n",
      "2 a\n",
      "3 z\n",
      "4  \n",
      "5 A\n",
      "6 m\n",
      "7 j\n",
      "8 a\n",
      "9 d\n"
     ]
    }
   ],
   "source": [
    "#Indexing\n",
    "\n",
    "text = 'Maaz Amjad'\n",
    "index = 0 \n",
    "while index <len(text):\n",
    "    letter = text[index]\n",
    "    print(index, letter)\n",
    "    index = index + 1"
   ]
  },
  {
   "cell_type": "code",
   "execution_count": 6,
   "metadata": {},
   "outputs": [
    {
     "name": "stdout",
     "output_type": "stream",
     "text": [
      "M\n",
      "a\n",
      "a\n",
      "z\n",
      " \n",
      "A\n",
      "m\n",
      "j\n",
      "a\n",
      "d\n"
     ]
    }
   ],
   "source": [
    "#Another approach\n",
    "text = 'Maaz Amjad'\n",
    "for word in text:\n",
    "    print(word)"
   ]
  },
  {
   "cell_type": "code",
   "execution_count": 10,
   "metadata": {},
   "outputs": [
    {
     "name": "stdout",
     "output_type": "stream",
     "text": [
      "3\n"
     ]
    }
   ],
   "source": [
    "# counting word\n",
    "text = 'Maaz Amjad'\n",
    "count = 0\n",
    "for w in text:\n",
    "    if w =='a':\n",
    "        count = count + 1\n",
    "print(count)"
   ]
  },
  {
   "cell_type": "code",
   "execution_count": 12,
   "metadata": {},
   "outputs": [
    {
     "name": "stdout",
     "output_type": "stream",
     "text": [
      "   Its a suuny day. \n",
      "Its a suuny day.\n"
     ]
    }
   ],
   "source": [
    "# reomoving whaite spaces\n",
    "dat = '   Its a suuny day. '\n",
    "a = dat.strip()\n",
    "print(dat)\n",
    "print(a)"
   ]
  },
  {
   "cell_type": "code",
   "execution_count": 18,
   "metadata": {},
   "outputs": [
    {
     "name": "stdout",
     "output_type": "stream",
     "text": [
      "9\n"
     ]
    }
   ],
   "source": [
    "# Parsing and extracting\n",
    "\n",
    "email = 'maazamjad@phystech.edu'\n",
    "b = email.find('@')\n",
    "print(b)\n"
   ]
  },
  {
   "cell_type": "code",
   "execution_count": 19,
   "metadata": {},
   "outputs": [
    {
     "name": "stdout",
     "output_type": "stream",
     "text": [
      "18\n"
     ]
    }
   ],
   "source": [
    "c = email.find('.', b)\n",
    "print(c)"
   ]
  },
  {
   "cell_type": "code",
   "execution_count": 23,
   "metadata": {},
   "outputs": [
    {
     "name": "stdout",
     "output_type": "stream",
     "text": [
      "phystech\n"
     ]
    }
   ],
   "source": [
    "d = email[b + 1 : c]\n",
    "print(d)"
   ]
  },
  {
   "cell_type": "code",
   "execution_count": 26,
   "metadata": {},
   "outputs": [
    {
     "data": {
      "text/plain": [
       "str"
      ]
     },
     "execution_count": 26,
     "metadata": {},
     "output_type": "execute_result"
    }
   ],
   "source": [
    "txt = u'معاز امجد'\n",
    "type(txt)"
   ]
  },
  {
   "cell_type": "markdown",
   "metadata": {},
   "source": [
    "### Handeling file"
   ]
  },
  {
   "cell_type": "code",
   "execution_count": 50,
   "metadata": {},
   "outputs": [
    {
     "name": "stdout",
     "output_type": "stream",
     "text": [
      "9\n"
     ]
    }
   ],
   "source": [
    "# Count the number of lines\n",
    "file = open('docs.txt')\n",
    "count = 0\n",
    "for line in file:\n",
    "    count = count +1 \n",
    "print(count)"
   ]
  },
  {
   "cell_type": "code",
   "execution_count": 51,
   "metadata": {},
   "outputs": [
    {
     "name": "stdout",
     "output_type": "stream",
     "text": [
      "The latter has been designated as a drug trafficking “kingpin”\n",
      " by the United States since 2009 under a law that bars “significant foreign narcotics traffickers”\n",
      " from doing business with American banks. It has been a remarbale journey so far. A list of such “kingpins” issued by the American government referred \n",
      "to him with various aliases including Imam Bheel.It was awesome. It was great indeed.\n",
      "From: Maaz Amjad\n",
      "From: Iqra Ameer\n",
      "From: Hammad \n",
      "From: Gelbukh\n",
      "From: Alisa\n",
      "473\n"
     ]
    }
   ],
   "source": [
    "file = open('docs.txt')\n",
    "read = file.read()\n",
    "print(read)\n",
    "print(len(read))"
   ]
  },
  {
   "cell_type": "code",
   "execution_count": 55,
   "metadata": {},
   "outputs": [
    {
     "name": "stdout",
     "output_type": "stream",
     "text": [
      "From: Maaz Amjad\n",
      "\n",
      "From: Iqra Ameer\n",
      "\n",
      "From: Hammad \n",
      "\n",
      "From: Gelbukh\n",
      "\n",
      "From: Alisa\n"
     ]
    }
   ],
   "source": [
    "# Searching through a file\n",
    "file = open('docs.txt')\n",
    "for line in file: \n",
    "    if line.startswith('From: '):\n",
    "        print(line)"
   ]
  },
  {
   "cell_type": "code",
   "execution_count": 58,
   "metadata": {},
   "outputs": [
    {
     "name": "stdout",
     "output_type": "stream",
     "text": [
      "From: Maaz Amjad\n",
      "From: Iqra Ameer\n",
      "From: Hammad\n",
      "From: Gelbukh\n",
      "From: Alisa\n"
     ]
    }
   ],
   "source": [
    "# Searching through a file\n",
    "file = open('docs.txt')\n",
    "for line in file:\n",
    "    line =line.rstrip() \n",
    "    if line.startswith('From: '):\n",
    "        print(line)"
   ]
  },
  {
   "cell_type": "code",
   "execution_count": 67,
   "metadata": {},
   "outputs": [
    {
     "name": "stdout",
     "output_type": "stream",
     "text": [
      "The latter has been designated as a drug trafficking “kingpin”\n",
      " by the United States since 2009 under a law that bars “significant foreign narcotics traffickers”\n",
      "From: Maaz Amjad\n",
      "From: Iqra Ameer\n",
      "From: Hammad\n",
      "From: Gelbukh\n",
      "From: Alisa\n"
     ]
    }
   ],
   "source": [
    "# Searching through a file\n",
    "file = open('docs.txt')\n",
    "for line in file:\n",
    "    line = line.rstrip() \n",
    "    if not \" It \" in line:\n",
    "        print(line)"
   ]
  },
  {
   "cell_type": "code",
   "execution_count": 71,
   "metadata": {},
   "outputs": [
    {
     "name": "stdout",
     "output_type": "stream",
     "text": [
      "Enter the file name: docs.txt\n",
      "There are 9 lines in the document docs.txt\n"
     ]
    }
   ],
   "source": [
    "fle= input('Enter the file name: ')\n",
    "fille = open(fle)\n",
    "count = 0\n",
    "for line in fille:\n",
    "    count = count + 1\n",
    "print('There are',count,'lines in the document',fle)"
   ]
  },
  {
   "cell_type": "code",
   "execution_count": 72,
   "metadata": {},
   "outputs": [
    {
     "name": "stdout",
     "output_type": "stream",
     "text": [
      "Enter the file name: document.txt\n",
      "There are 1 lines in the document document.txt\n"
     ]
    }
   ],
   "source": [
    "fle= input('Enter the file name: ')\n",
    "fille = open(fle)\n",
    "count = 0\n",
    "for line in fille:\n",
    "    count = count + 1\n",
    "print('There are',count,'lines in the document',fle)"
   ]
  },
  {
   "cell_type": "code",
   "execution_count": 73,
   "metadata": {},
   "outputs": [
    {
     "name": "stdout",
     "output_type": "stream",
     "text": [
      "Enter the file name: docue\n",
      "This file namely docue Can't be found\n"
     ]
    }
   ],
   "source": [
    "fle= input('Enter the file name: ')\n",
    "try:\n",
    "    fille = open(fle)\n",
    "    count = 0\n",
    "    for line in fille:\n",
    "        count = count + 1\n",
    "    print('There are',count,'lines in the document',fle)\n",
    "except:\n",
    "    print(\"This file namely\", fle, \"Can't be found\")"
   ]
  },
  {
   "cell_type": "code",
   "execution_count": 74,
   "metadata": {},
   "outputs": [
    {
     "name": "stdout",
     "output_type": "stream",
     "text": [
      "Enter the file name: docs.txt\n",
      "There are 9 lines in the document docs.txt\n"
     ]
    }
   ],
   "source": [
    "fle= input('Enter the file name: ')\n",
    "try:\n",
    "    fille = open(fle)\n",
    "    count = 0\n",
    "    for line in fille:\n",
    "        count = count + 1\n",
    "    print('There are',count,'lines in the document',fle)\n",
    "except:\n",
    "    print(\"This file namely\", fle, \"Can't be found\")"
   ]
  },
  {
   "cell_type": "code",
   "execution_count": 75,
   "metadata": {},
   "outputs": [
    {
     "name": "stdout",
     "output_type": "stream",
     "text": [
      "Enter the file name: document.txt\n",
      "There are 1 lines in the document document.txt\n"
     ]
    }
   ],
   "source": [
    "fle= input('Enter the file name: ')\n",
    "try:\n",
    "    fille = open(fle)\n",
    "    count = 0\n",
    "    for line in fille:\n",
    "        count = count + 1\n",
    "    print('There are',count,'lines in the document',fle)\n",
    "except:\n",
    "    print(\"This file namely\", fle, \"Can't be found\")"
   ]
  },
  {
   "cell_type": "markdown",
   "metadata": {},
   "source": [
    "### Lists"
   ]
  },
  {
   "cell_type": "code",
   "execution_count": null,
   "metadata": {},
   "outputs": [],
   "source": [
    "# we can also write list as my_list = list()\n",
    "my_list= []"
   ]
  }
 ],
 "metadata": {
  "kernelspec": {
   "display_name": "Python 3",
   "language": "python",
   "name": "python3"
  },
  "language_info": {
   "codemirror_mode": {
    "name": "ipython",
    "version": 3
   },
   "file_extension": ".py",
   "mimetype": "text/x-python",
   "name": "python",
   "nbconvert_exporter": "python",
   "pygments_lexer": "ipython3",
   "version": "3.6.5"
  }
 },
 "nbformat": 4,
 "nbformat_minor": 2
}
