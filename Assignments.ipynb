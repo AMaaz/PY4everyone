{
 "cells": [
  {
   "cell_type": "markdown",
   "metadata": {},
   "source": [
    "# Assignments"
   ]
  },
  {
   "cell_type": "raw",
   "metadata": {},
   "source": [
    "6.5 Write code using find() and string slicing (see section 6.10) to extract the number at the end of the line below. Convert the extracted value to a floating point number and print it out."
   ]
  },
  {
   "cell_type": "code",
   "execution_count": 6,
   "metadata": {},
   "outputs": [
    {
     "name": "stdout",
     "output_type": "stream",
     "text": [
      "19\n"
     ]
    }
   ],
   "source": [
    "text = \"X-DSPAM-Confidence:    0.8475\"\n",
    "ext = text.find('    ')\n",
    "print(ext)"
   ]
  },
  {
   "cell_type": "code",
   "execution_count": 7,
   "metadata": {},
   "outputs": [
    {
     "name": "stdout",
     "output_type": "stream",
     "text": [
      "28\n"
     ]
    }
   ],
   "source": [
    "fnd = text.find('5', ext)\n",
    "print(fnd)"
   ]
  },
  {
   "cell_type": "code",
   "execution_count": 9,
   "metadata": {},
   "outputs": [
    {
     "name": "stdout",
     "output_type": "stream",
     "text": [
      "   0.8475\n",
      "<class 'float'>\n"
     ]
    }
   ],
   "source": [
    "result = text[ext + 1 : fnd + 1]\n",
    "rslt = float(result)\n",
    "print(result)\n",
    "print(type(rslt))"
   ]
  },
  {
   "cell_type": "code",
   "execution_count": 10,
   "metadata": {},
   "outputs": [
    {
     "name": "stdout",
     "output_type": "stream",
     "text": [
      "   0.8475\n"
     ]
    }
   ],
   "source": [
    "text = \"X-DSPAM-Confidence:    0.8475\"\n",
    "ext = text.find('    ')\n",
    "fnd = text.find('5', ext)\n",
    "result = text[ext + 1 : fnd + 1]\n",
    "rslt = float(result)\n",
    "print(rslt)"
   ]
  },
  {
   "cell_type": "raw",
   "metadata": {},
   "source": [
    "# 8.4 Open the file romeo.txt and read it line by line. For each line, split the line into a list of words using the split() method. The program should build a list of words. For each word on each line check to see if the word is already in the list and if not append it to the list. When the program completes, sort and print the resulting words in alphabetical order.\n",
    "You can download the sample data at http://www.py4e.com/code3/romeo.txt"
   ]
  },
  {
   "cell_type": "code",
   "execution_count": null,
   "metadata": {},
   "outputs": [],
   "source": [
    "fh = input(\"Enter file name: \")\n",
    "file = open(fh)\n",
    "List = list()\n",
    "for line in file:\n",
    "    docs = line.split()\n",
    "    List.append(docs)\n",
    "Liss = []\n",
    "for lis in List:\n",
    "    for word in lis:\n",
    "        if word not in Liss:\n",
    "            Liss.append(word)   \n",
    "Liss.sort()\n",
    "print(Liss)\n",
    "#print(sorted(Liss))-- It will work the same as print(Liss)"
   ]
  },
  {
   "cell_type": "raw",
   "metadata": {},
   "source": [
    "8.5 Open the file mbox-short.txt and read it line by line. When you find a line that starts with 'From ' like the following line:\n",
    "From stephen.marquard@uct.ac.za Sat Jan  5 09:14:16 2008\n",
    "You will parse the From line using split() and print out the second word in the line (i.e. the entire address of the person who sent the message). Then print out a count at the end.\n",
    "Hint: make sure not to include the lines that start with 'From:'.\n",
    "\n",
    "You can download the sample data at https://www.py4e.com/code3/mbox-short.txt"
   ]
  },
  {
   "cell_type": "code",
   "execution_count": null,
   "metadata": {},
   "outputs": [],
   "source": []
  }
 ],
 "metadata": {
  "kernelspec": {
   "display_name": "Python 3",
   "language": "python",
   "name": "python3"
  },
  "language_info": {
   "codemirror_mode": {
    "name": "ipython",
    "version": 3
   },
   "file_extension": ".py",
   "mimetype": "text/x-python",
   "name": "python",
   "nbconvert_exporter": "python",
   "pygments_lexer": "ipython3",
   "version": "3.6.5"
  }
 },
 "nbformat": 4,
 "nbformat_minor": 2
}
