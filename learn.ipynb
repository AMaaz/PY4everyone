{
 "cells": [
  {
   "cell_type": "raw",
   "metadata": {},
   "source": [
    "4.6 Write a program to prompt the user for hours and rate per hour using input to compute gross pay. Pay should be the normal rate for hours up to 40 and time-and-a-half for the hourly rate for all hours worked above 40 hours. Put the logic to do the computation of time-and-a-half in a function called computepay() and use the function to do the computation. The function should return a value. Use 45 hours and a rate of 10.50 per hour to test the program (the pay should be 498.75). You should use input to read a string and float() to convert the string to a number. Do not worry about error checking the user input unless you want to - you can assume the user types numbers properly. Do not name your variable sum or use the sum() function."
   ]
  },
  {
   "cell_type": "code",
   "execution_count": 6,
   "metadata": {},
   "outputs": [
    {
     "name": "stdout",
     "output_type": "stream",
     "text": [
      "Please enter hours: 45\n",
      "Please enter rate: 10.50\n",
      "Pay: 498.75\n"
     ]
    }
   ],
   "source": [
    "hr = input('Please enter hours: ')\n",
    "rt = input('Please enter rate: ')\n",
    "hour = float(hr)\n",
    "rate = float(rt)\n",
    "\n",
    "def computepay(hour,rate):\n",
    "    if hour < 41:\n",
    "        pay =  hour * rate\n",
    "        return pay\n",
    "    else:\n",
    "        pay = (hour - 40) * rate * 1.5 + (40 * rate)\n",
    "        return pay\n",
    "    \n",
    "xw = computepay(hour,rate)\n",
    "print('Pay:', xw)\n",
    "    "
   ]
  },
  {
   "cell_type": "raw",
   "metadata": {},
   "source": [
    "5.2 Write a program that repeatedly prompts a user for integer numbers until the user enters 'done'. Once 'done' is entered, print out the largest and smallest of the numbers. If the user enters anything other than a valid number catch it with a try/except and put out an appropriate message and ignore the number. Enter 7, 2, bob, 10, and 4 and match the output below."
   ]
  },
  {
   "cell_type": "code",
   "execution_count": 7,
   "metadata": {},
   "outputs": [
    {
     "name": "stdout",
     "output_type": "stream",
     "text": [
      "Please enter integer number: 5\n"
     ]
    },
    {
     "ename": "TypeError",
     "evalue": "'>' not supported between instances of 'str' and 'NoneType'",
     "output_type": "error",
     "traceback": [
      "\u001b[1;31m---------------------------------------------------------------------------\u001b[0m",
      "\u001b[1;31mTypeError\u001b[0m                                 Traceback (most recent call last)",
      "\u001b[1;32m<ipython-input-7-68e96cf9a3c1>\u001b[0m in \u001b[0;36m<module>\u001b[1;34m()\u001b[0m\n\u001b[0;32m     12\u001b[0m         \u001b[1;32mif\u001b[0m \u001b[0mnumb\u001b[0m \u001b[1;32mis\u001b[0m \u001b[1;32mNone\u001b[0m\u001b[1;33m:\u001b[0m\u001b[1;33m\u001b[0m\u001b[0m\n\u001b[0;32m     13\u001b[0m             \u001b[0mlargest\u001b[0m \u001b[1;33m=\u001b[0m \u001b[0mnumb\u001b[0m\u001b[1;33m\u001b[0m\u001b[0m\n\u001b[1;32m---> 14\u001b[1;33m         \u001b[1;32melif\u001b[0m \u001b[0mnumb\u001b[0m \u001b[1;33m>\u001b[0m \u001b[0mlargest\u001b[0m\u001b[1;33m:\u001b[0m\u001b[1;33m\u001b[0m\u001b[0m\n\u001b[0m\u001b[0;32m     15\u001b[0m             \u001b[0mlargest\u001b[0m \u001b[1;33m=\u001b[0m \u001b[0mnumb\u001b[0m\u001b[1;33m\u001b[0m\u001b[0m\n\u001b[0;32m     16\u001b[0m         \u001b[0mprint\u001b[0m\u001b[1;33m(\u001b[0m\u001b[1;34m'Maximum is'\u001b[0m\u001b[1;33m,\u001b[0m \u001b[0mnumb\u001b[0m\u001b[1;33m)\u001b[0m\u001b[1;33m\u001b[0m\u001b[0m\n",
      "\u001b[1;31mTypeError\u001b[0m: '>' not supported between instances of 'str' and 'NoneType'"
     ]
    }
   ],
   "source": [
    "list_of_inputs = list()\n",
    "largest = None\n",
    "smallest = None\n",
    "while True:\n",
    "    num =  input('Please enter integer number: ')\n",
    "    if num == 'done': \n",
    "        print(\" Your inputs are: \",list_of_inputs)\n",
    "        break\n",
    "    else:\n",
    "        list_of_inputs.append(num)\n",
    "    for numb in list_of_inputs :\n",
    "        if numb is None:\n",
    "            largest = numb\n",
    "        elif numb > largest:\n",
    "            largest = numb\n",
    "        print('Maximum is', numb)"
   ]
  },
  {
   "cell_type": "code",
   "execution_count": 14,
   "metadata": {},
   "outputs": [
    {
     "name": "stdout",
     "output_type": "stream",
     "text": [
      "3\n"
     ]
    }
   ],
   "source": [
    "text = 'Maaz Amjad'\n",
    "count = 0\n",
    "for word in text:\n",
    "    if word == 'a':\n",
    "        count = count + 1\n",
    "print(count)"
   ]
  },
  {
   "cell_type": "raw",
   "metadata": {},
   "source": [
    "7.2 Write a program that prompts for a file name, then opens that file and reads through the file, looking for lines of the form:\n",
    "X-DSPAM-Confidence:    0.8475\n",
    "Count these lines and extract the floating point values from each of the lines and compute the average of those values and produce an output as shown below. Do not use the sum() function or a variable named sum in your solution.\n",
    "You can download the sample data at http://www.py4e.com/code3/mbox-short.txt when you are testing below enter mbox-short.txt as the file name."
   ]
  },
  {
   "cell_type": "code",
   "execution_count": null,
   "metadata": {},
   "outputs": [],
   "source": [
    "# Use the file name mbox-short.txt as the file name\n",
    "count = 0\n",
    "add = 0\n",
    "fname = input(\"Enter file name: \")\n",
    "file = open(fname)\n",
    "for line in file:\n",
    "    if line.startswith(\"X-DSPAM-Confidence:\") : \n",
    "        count = count + 1\n",
    "        output = line.strip()\n",
    "        a = output.find(' ')\n",
    "        b =output[a + 1:]\n",
    "        add = add + float(b)\n",
    "        output = add/count\n",
    "print('Average spam confidence:', output)"
   ]
  },
  {
   "cell_type": "code",
   "execution_count": 4,
   "metadata": {},
   "outputs": [
    {
     "name": "stdout",
     "output_type": "stream",
     "text": [
      "Enter the numbers: 2\n",
      "Enter the numbers: 43\n",
      "Enter the numbers: 21\n",
      "Enter the numbers: done\n",
      "Average:  22.0\n"
     ]
    }
   ],
   "source": [
    "numbers= []\n",
    "while True:\n",
    "    num = input('Enter the numbers: ')\n",
    "    if num == 'done': break \n",
    "    valuse = float(num)\n",
    "    numbers.append(valuse)\n",
    "average = sum(numbers)/len(numbers)\n",
    "print('Average: ', average)"
   ]
  },
  {
   "cell_type": "raw",
   "metadata": {},
   "source": [
    "8.5 Open the file mbox-short.txt and read it line by line. When you find a line that starts with 'From ' like the following line:\n",
    "From stephen.marquard@uct.ac.za Sat Jan  5 09:14:16 2008\n",
    "You will parse the From line using split() and print out the second word in the line (i.e. the entire address of the person who sent the message). Then print out a count at the end.\n",
    "Hint: make sure not to include the lines that start with 'From:'.\n",
    "\n",
    "You can download the sample data at http://www.py4e.com/code3/mbox-short.txt"
   ]
  },
  {
   "cell_type": "code",
   "execution_count": 39,
   "metadata": {},
   "outputs": [
    {
     "name": "stdout",
     "output_type": "stream",
     "text": [
      "Enter file name: mbox-short.txt\n",
      "stephen.marquard@uct.ac.za\n",
      "louis@media.berkeley.edu\n",
      "zqian@umich.edu\n",
      "rjlowe@iupui.edu\n",
      "zqian@umich.edu\n",
      "rjlowe@iupui.edu\n",
      "cwen@iupui.edu\n",
      "cwen@iupui.edu\n",
      "gsilver@umich.edu\n",
      "gsilver@umich.edu\n",
      "zqian@umich.edu\n",
      "gsilver@umich.edu\n",
      "wagnermr@iupui.edu\n",
      "zqian@umich.edu\n",
      "antranig@caret.cam.ac.uk\n",
      "gopal.ramasammycook@gmail.com\n",
      "david.horwitz@uct.ac.za\n",
      "david.horwitz@uct.ac.za\n",
      "david.horwitz@uct.ac.za\n",
      "david.horwitz@uct.ac.za\n",
      "stephen.marquard@uct.ac.za\n",
      "louis@media.berkeley.edu\n",
      "louis@media.berkeley.edu\n",
      "ray@media.berkeley.edu\n",
      "cwen@iupui.edu\n",
      "cwen@iupui.edu\n",
      "cwen@iupui.edu\n",
      "There were 27 lines in the file with From as the first word\n"
     ]
    }
   ],
   "source": [
    "count = 0\n",
    "fname = input(\"Enter file name: \")\n",
    "file = open(fname)\n",
    "for line in file:\n",
    "    if line.startswith(\"From:\") :\n",
    "        count = count + 1\n",
    "        output = line.strip()\n",
    "        outputt = output.split()\n",
    "        print(outputt[1])\n",
    "print(\"There were\", count, \"lines in the file with From as the first word\")       "
   ]
  },
  {
   "cell_type": "raw",
   "metadata": {},
   "source": [
    "9.4 Write a program to read through the mbox-short.txt and figure out who has the sent the greatest number of mail messages. The program looks for 'From ' lines and takes the second word of those lines as the person who sent the mail. The program creates a Python dictionary that maps the sender's mail address to a count of the number of times they appear in the file. After the dictionary is produced, the program reads through the dictionary using a maximum loop to find the most prolific committer."
   ]
  },
  {
   "cell_type": "code",
   "execution_count": 58,
   "metadata": {},
   "outputs": [
    {
     "name": "stdout",
     "output_type": "stream",
     "text": [
      "Enter file name: mbox-short.txt\n",
      "cwen@iupui.edu 5\n"
     ]
    }
   ],
   "source": [
    "duct= dict()\n",
    "fname = input(\"Enter file name: \")\n",
    "file = open(fname)\n",
    "\n",
    "#to make a dictionary   \n",
    "for line in file:\n",
    "    if line.startswith(\"From \") :\n",
    "        output = line.strip()\n",
    "        outputt = output.split()\n",
    "        result = outputt[1].split()\n",
    "        for email in result:\n",
    "            duct[email]= duct.get(email,0) + 1\n",
    "\n",
    "#to count which comes higher than others            \n",
    "big_words = None\n",
    "big_count = None\n",
    "for word,count in duct.items():\n",
    "    if big_words is None or count > big_count:\n",
    "        big_words = word\n",
    "        big_count = count\n",
    "print(big_words, big_count)"
   ]
  },
  {
   "cell_type": "raw",
   "metadata": {},
   "source": [
    "10.2 Write a program to read through the mbox-short.txt and figure out the distribution by hour of the day for each of the messages. You can pull the hour out from the 'From ' line by finding the time and then splitting the string a second time using a colon.\n",
    "From stephen.marquard@uct.ac.za Sat Jan  5 09:14:16 2008\n",
    "Once you have accumulated the counts for each hour, print out the counts, sorted by hour as shown below."
   ]
  },
  {
   "cell_type": "code",
   "execution_count": 154,
   "metadata": {},
   "outputs": [
    {
     "name": "stdout",
     "output_type": "stream",
     "text": [
      "Enter file name: mbox-short.txt\n",
      "04 3\n",
      "06 1\n",
      "07 1\n",
      "09 2\n",
      "10 3\n",
      "11 6\n",
      "14 1\n",
      "15 2\n",
      "16 4\n",
      "17 2\n",
      "18 1\n",
      "19 1\n"
     ]
    }
   ],
   "source": [
    "llist = []\n",
    "ddict={}\n",
    "fname = input(\"Enter file name: \")\n",
    "file = open(fname)\n",
    "for line in file:\n",
    "    if line.startswith('From ') :\n",
    "        output = line.strip()\n",
    "        out_putt = output.split(' ')\n",
    "        fn= out_putt[6]\n",
    "        if fn[:2] not in ddict:\n",
    "            ddict[fn[:2]] = 1\n",
    "        else:\n",
    "            ddict[fn[:2]] += 1\n",
    "for valu,keey in ddict.items():\n",
    "    llist.append((valu, keey))\n",
    "    \n",
    "#sorting    \n",
    "llist = sorted(llist)\n",
    "for vv,kk in llist:\n",
    "    print(vv, kk)\n",
    "            "
   ]
  },
  {
   "cell_type": "code",
   "execution_count": null,
   "metadata": {},
   "outputs": [],
   "source": []
  }
 ],
 "metadata": {
  "kernelspec": {
   "display_name": "Python 3",
   "language": "python",
   "name": "python3"
  },
  "language_info": {
   "codemirror_mode": {
    "name": "ipython",
    "version": 3
   },
   "file_extension": ".py",
   "mimetype": "text/x-python",
   "name": "python",
   "nbconvert_exporter": "python",
   "pygments_lexer": "ipython3",
   "version": "3.6.5"
  }
 },
 "nbformat": 4,
 "nbformat_minor": 2
}
